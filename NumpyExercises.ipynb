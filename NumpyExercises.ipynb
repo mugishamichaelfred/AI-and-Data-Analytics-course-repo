{
 "cells": [
  {
   "cell_type": "markdown",
   "metadata": {},
   "source": [
    "Create a 1-D array containing 10 values all zeros"
   ]
  },
  {
   "cell_type": "code",
   "execution_count": 4,
   "metadata": {},
   "outputs": [
    {
     "name": "stdout",
     "output_type": "stream",
     "text": [
      "[0 0 0 0 0 0 0 0 0 0]\n"
     ]
    }
   ],
   "source": [
    "import numpy as np\n",
    "zeros = np.zeros((10,),dtype=int)\n",
    "print(zeros)"
   ]
  },
  {
   "cell_type": "markdown",
   "metadata": {},
   "source": [
    "A 2-D array called myarray2 using arange()\n",
    "having 3 rows and 5 columns with start value = 4,\n",
    "step size 4 and dtype as float."
   ]
  },
  {
   "cell_type": "code",
   "execution_count": 3,
   "metadata": {},
   "outputs": [
    {
     "name": "stdout",
     "output_type": "stream",
     "text": [
      "[[ 4.  8. 12. 16. 20.]\n",
      " [24. 28. 32. 36. 40.]\n",
      " [44. 48. 52. 56. 60.]]\n"
     ]
    }
   ],
   "source": [
    "## Type the code here\n",
    "myarray2 = np.arange(4, 4 * 15 + 1, 4, dtype=float).reshape(3, 5)\n",
    "print(myarray2)"
   ]
  },
  {
   "cell_type": "markdown",
   "metadata": {},
   "source": [
    "A 2-D array called ones having 2 rows and 5\n",
    "columns and all the elements are set to 1 and\n",
    "dtype as int."
   ]
  },
  {
   "cell_type": "code",
   "execution_count": 4,
   "metadata": {},
   "outputs": [
    {
     "name": "stdout",
     "output_type": "stream",
     "text": [
      "[[1 1 1 1 1]\n",
      " [1 1 1 1 1]]\n"
     ]
    }
   ],
   "source": [
    "## Type the code here\n",
    "ones = np.ones((10,), dtype=int).reshape(2, 5)\n",
    "print(ones)"
   ]
  },
  {
   "cell_type": "markdown",
   "metadata": {},
   "source": [
    "A 1-D array called vowels having the elements ‘a’,\n",
    "‘e’, ‘i’, ‘o’ and ‘u’."
   ]
  },
  {
   "cell_type": "code",
   "execution_count": 14,
   "metadata": {},
   "outputs": [
    {
     "name": "stdout",
     "output_type": "stream",
     "text": [
      "['a' 'e' 'i' 'o' 'u']\n"
     ]
    }
   ],
   "source": [
    "## Type the code here\n",
    "vowels = np.array(['a', 'e', 'i', 'o', 'u'])\n",
    "print(vowels)"
   ]
  },
  {
   "cell_type": "markdown",
   "metadata": {},
   "source": [
    "Use nested Python lists to create a 2-D array called\n",
    "myarray1 having 3 rows and 3 columns and store\n",
    "the following data:\n",
    "2.7, -2, -19\n",
    "0, 3.4, 99.9\n",
    "10.6, 0, 13"
   ]
  },
  {
   "cell_type": "code",
   "execution_count": 6,
   "metadata": {},
   "outputs": [
    {
     "name": "stdout",
     "output_type": "stream",
     "text": [
      "[[  2.7  -2.  -19. ]\n",
      " [  0.    3.4  99.9]\n",
      " [ 10.6   0.   13. ]]\n"
     ]
    }
   ],
   "source": [
    "## Type the code here\n",
    "myarray1 = np.array([[2.7, -2, -19], [0, 3.4, 99.9], [10.6, 0, 13]])\n",
    "print(myarray1)"
   ]
  },
  {
   "cell_type": "markdown",
   "metadata": {},
   "source": [
    "Using the arrays created in Question 4 above, write\n",
    "NumPy commands for the following :\n",
    "(a) Find the dimensions, shape, size, data type of the\n",
    "items and itemsize of arrays zeros, vowels,\n",
    "ones, myarray1 and myarray2."
   ]
  },
  {
   "cell_type": "code",
   "execution_count": 13,
   "metadata": {},
   "outputs": [
    {
     "name": "stdout",
     "output_type": "stream",
     "text": [
      "Properties of zeros:\n",
      "  Dimensions: 1\n",
      "  Shape: (10,)\n",
      "  Size: 10\n",
      "  Data Type: int64\n",
      "  Item Size: 8 bytes\n",
      "\n",
      "Properties of vowels:\n",
      "  Dimensions: 1\n",
      "  Shape: (5,)\n",
      "  Size: 5\n",
      "  Data Type: <U1\n",
      "  Item Size: 4 bytes\n",
      "\n",
      "Properties of ones:\n",
      "  Dimensions: 2\n",
      "  Shape: (2, 5)\n",
      "  Size: 10\n",
      "  Data Type: int64\n",
      "  Item Size: 8 bytes\n",
      "\n",
      "Properties of myarray1:\n",
      "  Dimensions: 2\n",
      "  Shape: (3, 3)\n",
      "  Size: 9\n",
      "  Data Type: float64\n",
      "  Item Size: 8 bytes\n",
      "\n",
      "Properties of myarray2:\n",
      "  Dimensions: 2\n",
      "  Shape: (3, 5)\n",
      "  Size: 15\n",
      "  Data Type: float64\n",
      "  Item Size: 8 bytes\n",
      "\n"
     ]
    }
   ],
   "source": [
    "## Type the code here\n",
    "\n",
    "# Arrays (from previous questions)\n",
    "zeros = np.zeros((10,), dtype=int)\n",
    "vowels = np.array(['a', 'e', 'i', 'o', 'u'])\n",
    "ones = np.ones((10,), dtype=int).reshape(2, 5)\n",
    "myarray1 = np.array([[2.7, -2, -19], [0, 3.4, 99.9], [10.6, 0, 13]])\n",
    "myarray2 = np.arange(4, 4 * 15 + 1, 4, dtype=float).reshape(3, 5)\n",
    "\n",
    "# Function to display the required properties\n",
    "def display_properties(array, name):\n",
    "    print(f\"Properties of {name}:\")\n",
    "    print(f\"  Dimensions: {array.ndim}\")\n",
    "    print(f\"  Shape: {array.shape}\")\n",
    "    print(f\"  Size: {array.size}\")\n",
    "    print(f\"  Data Type: {array.dtype}\")\n",
    "    print(f\"  Item Size: {array.itemsize} bytes\")\n",
    "    print()\n",
    "\n",
    "# Display properties for each array\n",
    "display_properties(zeros, \"zeros\")\n",
    "display_properties(vowels, \"vowels\")\n",
    "display_properties(ones, \"ones\")\n",
    "display_properties(myarray1, \"myarray1\")\n",
    "display_properties(myarray2, \"myarray2\")"
   ]
  },
  {
   "cell_type": "markdown",
   "metadata": {},
   "source": [
    "(b) Reshape the array ones to have all the 10 elements\n",
    "in a single row."
   ]
  },
  {
   "cell_type": "code",
   "execution_count": 15,
   "metadata": {},
   "outputs": [
    {
     "name": "stdout",
     "output_type": "stream",
     "text": [
      "Reshaped array ones into { single row }:\n",
      "[[1 1 1 1 1 1 1 1 1 1]]\n"
     ]
    }
   ],
   "source": [
    "## Type the code here\n",
    "to_reshape_array = ones.reshape(1, 10)\n",
    "print(\"Reshaped array ones into { single row }:\")\n",
    "print(to_reshape_array)"
   ]
  },
  {
   "cell_type": "markdown",
   "metadata": {},
   "source": [
    "(c) Display the 2nd and 3rd element of the array vowels."
   ]
  },
  {
   "cell_type": "code",
   "execution_count": 18,
   "metadata": {},
   "outputs": [
    {
     "name": "stdout",
     "output_type": "stream",
     "text": [
      "['e' 'i']\n"
     ]
    }
   ],
   "source": [
    "## Type the code here\n",
    "array_vowels = vowels[1:3]\n",
    "print(array_vowels)"
   ]
  },
  {
   "cell_type": "markdown",
   "metadata": {},
   "source": [
    "(d) Display all elements in the 2nd and 3rd row of the\n",
    "array myarray1"
   ]
  },
  {
   "cell_type": "code",
   "execution_count": 26,
   "metadata": {},
   "outputs": [
    {
     "name": "stdout",
     "output_type": "stream",
     "text": [
      "[[ 0.   3.4 99.9]\n",
      " [10.6  0.  13. ]]\n"
     ]
    }
   ],
   "source": [
    "## Type the code here\n",
    "all_elements = myarray1[1:3, :]\n",
    "print(all_elements)"
   ]
  },
  {
   "cell_type": "markdown",
   "metadata": {},
   "source": [
    "(e) Display the elements in the 1st and 2nd column of\n",
    "the array myarray1."
   ]
  },
  {
   "cell_type": "code",
   "execution_count": 31,
   "metadata": {},
   "outputs": [
    {
     "name": "stdout",
     "output_type": "stream",
     "text": [
      "[[ 2.7 -2. ]\n",
      " [ 0.   3.4]\n",
      " [10.6  0. ]]\n"
     ]
    }
   ],
   "source": [
    "## Type the code here\n",
    "elements = myarray1[:, 0:2]\n",
    "print(elements)"
   ]
  },
  {
   "cell_type": "markdown",
   "metadata": {},
   "source": [
    "(f) Display the elements in the 1st column of the 2nd\n",
    "and 3rd row of the array myarray1."
   ]
  },
  {
   "cell_type": "code",
   "execution_count": 32,
   "metadata": {},
   "outputs": [
    {
     "name": "stdout",
     "output_type": "stream",
     "text": [
      "[ 0.  10.6]\n"
     ]
    }
   ],
   "source": [
    "## Type the code here\n",
    "elements_array = myarray1[1:3, 0]\n",
    "print(elements_array)"
   ]
  },
  {
   "cell_type": "markdown",
   "metadata": {},
   "source": [
    "(g) Reverse the array of vowels."
   ]
  },
  {
   "cell_type": "code",
   "execution_count": 34,
   "metadata": {},
   "outputs": [
    {
     "name": "stdout",
     "output_type": "stream",
     "text": [
      "['u' 'o' 'i' 'e' 'a']\n"
     ]
    }
   ],
   "source": [
    "## Type the code here\n",
    "reverse_vowels = vowels[::-1]\n",
    "print(reverse_vowels)"
   ]
  },
  {
   "cell_type": "markdown",
   "metadata": {},
   "source": [
    "The file Marks.csv contains the marks of students in 4 subjects English,Physics,Math and Chemistry\n",
    "(1) Load the marks into a 2-D array names Results"
   ]
  },
  {
   "cell_type": "code",
   "execution_count": 9,
   "metadata": {},
   "outputs": [
    {
     "name": "stdout",
     "output_type": "stream",
     "text": [
      "[[60. 70. 80. 90.]\n",
      " [75. 78. 92. 35.]\n",
      " [62. 79. 62. 57.]\n",
      " [69. 90. 74. 62.]]\n"
     ]
    }
   ],
   "source": [
    "## Type the code here\n",
    "\n",
    "results = np.loadtxt(\"Marks.csv\", delimiter=\",\", skiprows=1)\n",
    "print(results)"
   ]
  },
  {
   "cell_type": "markdown",
   "metadata": {},
   "source": [
    "(2)Find the highest mark in every subject"
   ]
  },
  {
   "cell_type": "code",
   "execution_count": 10,
   "metadata": {},
   "outputs": [
    {
     "name": "stdout",
     "output_type": "stream",
     "text": [
      "[75. 90. 92. 90.]\n"
     ]
    }
   ],
   "source": [
    "## Type the code here\n",
    "highest = np.max(results, axis=0)\n",
    "print(highest)"
   ]
  },
  {
   "cell_type": "markdown",
   "metadata": {},
   "source": [
    "(3)Find the average mark of every student"
   ]
  },
  {
   "cell_type": "code",
   "execution_count": null,
   "metadata": {},
   "outputs": [
    {
     "name": "stdout",
     "output_type": "stream",
     "text": [
      "[75.   70.   65.   73.75]\n"
     ]
    }
   ],
   "source": [
    "## Type the code here\n",
    "average_marks = np.mean(results, axis=1)\n",
    "print(average_marks)"
   ]
  },
  {
   "cell_type": "markdown",
   "metadata": {},
   "source": []
  }
 ],
 "metadata": {
  "kernelspec": {
   "display_name": ".venv",
   "language": "python",
   "name": "python3"
  },
  "language_info": {
   "codemirror_mode": {
    "name": "ipython",
    "version": 3
   },
   "file_extension": ".py",
   "mimetype": "text/x-python",
   "name": "python",
   "nbconvert_exporter": "python",
   "pygments_lexer": "ipython3",
   "version": "3.12.7"
  }
 },
 "nbformat": 4,
 "nbformat_minor": 2
}
